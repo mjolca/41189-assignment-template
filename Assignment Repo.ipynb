{
 "cells": [
  {
   "cell_type": "markdown",
   "metadata": {},
   "source": [
    "**41189 Modelling Assignment — Group 4**\n",
    "\n",
    "Topic: Economic Development Post Pandemic\n",
    "\n",
    "Group members:\n",
    "\n",
    "- Mahmut Jahn Olca\n",
    "- Daniel Habib\n",
    "- Dhristi Shreya\n",
    "- Martin Obaid"
   ]
  },
  {
   "cell_type": "markdown",
   "metadata": {},
   "source": [
    "# Introduction to Human-Centred Complex Systems-Pre-Submission"
   ]
  },
  {
   "cell_type": "markdown",
   "metadata": {},
   "source": [
    "# 1.0: Introduction"
   ]
  },
  {
   "cell_type": "markdown",
   "metadata": {},
   "source": [
    "The economy, or better yet, an unearthing trumpet roaring day and night, filling many one's paths generations on-end. A trumpet born, yet no longer dictated by men, pushing humanity's never-ending search for more. It is with this statement paired with a disruptor, a virus one many haven't seen in their lifetime, one that hinges onto human life causing separation, fear, and for some, closer to the finite nature of survival, that the true scale and destruction of the term coined 'our global economy' is put into perspective.\n",
    "\n",
    "To delve into the processing of data models grants one the power to put pieces of different realms together, and only then will the combined understanding of such models reveal the extent of this destructor. The COVID-19 pandemic (SARS-CoV-2) has directly impacted millions. This economic unwinding has only worsened as this destructor turned pandemic; unearthing border closures on both national and international spectrums, forcing much of the populous indoors.\n",
    "\n",
    "As the enforcement of social distancing and lockdown laws developed, the ties between the single customer, driver, and developer of the economy, humanity was severed further. These considerable barriers have only bogged economic growth, increased unemployment rates, and stripped the crucial 'human interaction' aspect away. It is easy to lose track but whether the global populous realizes or not, evolution runs through 'our blood'. The benchmarks and datasets gathered allow data scientists to analyze and benchmark global standings allowing for evaluative studies on public trends and adaption in a 'post-pandemic' world to take place.\n",
    "\n",
    "Through adopting a many-model thinking approach, one can incorporate an all-encompassing perception of this destructor. Harvard Business Review preaches the importance of modelling; “models win because they possess capabilities that humans lack... And models do not commit logical errors. Models do not suffer from cognitive biases” (HBR, 2018, p. 4.). Therefore, the development and enforcement of a sustainable plan, the use of an ensemble of models assists in deconstructing large amounts of data, in improving the predictive capacity of policymakers. Ultimately, as the COVID-19 pandemic presents severe impacts on individuals and the larger society, employing a supermarket of models ensures that the issue is understood entirely. Thus corrective action effectively assists in preventing the virus permanently and restoring economic development."
   ]
  },
  {
   "cell_type": "markdown",
   "metadata": {},
   "source": [
    "# 2.0: Context, Background & Justification:"
   ]
  },
  {
   "cell_type": "markdown",
   "metadata": {},
   "source": [
    "## 2.1: Research and review literature, news, digital media, drivers and how the problem is being addressed by academia, industry, government, etc."
   ]
  },
  {
   "attachments": {
    "global_economy_impact.jfif": {
     "image/jpeg": "[encoded data removed]"
    }
   },
   "cell_type": "markdown",
   "metadata": {},
   "source": [
    "The outbreak tracking back to Wuhan, China, in December of 2019 was declared pandemic by the World Health Organization in just over a month.\n",
    "\n",
    "![global_economy_impact.jfif](attachment:global_economy_impact.jfif)\n",
    "\n",
    "To sway economic activity in such a small period of time can only be achieved through devestating blows to the global populous. “COVID-19 is most definitely spreading economic suffering worldwide. The virus may be as contagious economically as it is medically” (2020, p. 6). Unfourtunately, ongoing data modelling studies in countries such as the United States have left appauling benchmarks in comparision to Australia for example. Tieing back to humanities unending evolution; such benchmarks make clear of the required competence of government bodies in applying swift, ongoing initiative supporting lower-level corporate and individual bodies.\n",
    "\n",
    "More specifically, the socially destructive impacts that COVID-19 has presented upon Australia includes an increase in unemployment from  5.2% in January to 7.5% in August whilst GDP has declined more than 7% in the June Quarter. These economic fluctuations present numerous threats to health and other indicators of a high standard of living. This notion is supported within Harris and Morrow’s academic study which conveys that “there is increasing Australian and international evidence that people who are unemployed are more likely to have higher rates of mortality, morbidity (illness) and use of health services” (2001, p. 1). Consequently, it is paramount that an efficient response is prioritised by all members of society to reduce further deterioration of mental health that has already increased to “30% of people showing signs of moderate to high depression and anxiety” (ABC, 2020, N.A.).\n",
    "\n",
    "In response to the threats mentioned above imposed by the pandemic, there have been various measures. At the government level, numerous budgetary adjustments have been implemented to improve current conditions. Notably, according to the Australian Government Department of Health, over \\\\$130 billion has been invested to alleviating the financial and socio-economic impacts that unemployment has placed. To further address this, over $669 million has been injected towards facilitating mental health issues that the pandemic has stimulated. However, the most significant response takes the form of a post-pandemic economic plan. The volatility and unpredictability of the virus create limitations concerning a definitive plan. Initially, the Australian government imposed a three-step plan to restore society to a prosperous state. Nonetheless, unprecedented cases saw this to be ineffective. Therefore, in the future development of a plan, policymakers must analyse the potential outcomes from an ensemble of models to reduce the impacts of an inefficient strategy that arises from biases and one-sidedness."
   ]
  },
  {
   "cell_type": "markdown",
   "metadata": {},
   "source": [
    "## 2.2: Identify the system + stakeholders. For this, you will need to construct a “rich picture” that captures the essential elements."
   ]
  },
  {
   "cell_type": "markdown",
   "metadata": {},
   "source": [
    "Systems are defined as a group or assemblage of interconnected units or entities to form a whole. They are categorised in distinct ways and construed by several boundaries. Few characteristics of systems include structure, behaviour, functionality, and a set of rules. More specifically, a system is a whole entity, thus when separated into portions could lose its substance. Some common examples of systems are the solar system, climate system, Dewey decimal system and transport system, to name a few. However, systems cannot function without stakeholders for they are the main contributors of the system and hence, play an essential part of being at the core of all the systems. These stakeholders could be in the form of creditors, employees, students, and customers and possess the ability to design, operate, maintain, or even destroy a system.\n",
    "\n",
    "Furthermore, coronavirus has been declared as a pandemic since 11 March 2020 by the World Health Organization. This virus has not only made people suffer physically but economically as well. Economic development in nearly every country has either come to a stop or has caused a recession. Economic development post-pandemic involves the socio-economic system as the pandemic had caused many public functions such as live concerts, sporting events and cultural festivities to be cancelled or postponed. It has led to the closing of schools, universities, and multiple businesses leaving unemployment to rise. Stakeholders of this system namely the general public (students, teachers, employers, employees, suppliers and citizens of foreign countries) have resorted to earn income and continue with their daily lives, for example, entrepreneurship using digital platforms or technological innovation. Hence, the pandemic has caused an outcry from people around the world as the socio-economic system continually fluctuates at this point."
   ]
  },
  {
   "cell_type": "markdown",
   "metadata": {},
   "source": [
    "![](Rich Picture.PNG)"
   ]
  },
  {
   "cell_type": "markdown",
   "metadata": {},
   "source": [
    "Ultimately, the above rich pictures in the mechanism used to deconstruct and present key aspects of the COVID-19 pandemic. This enables one to gain an aggregate understanding of the topic in a simplistic manner and simultaneously provides policymakers with a holistic outlook. Through integrating the essential elements, it allows large volumes of data and statistics to be summarised and readily comprehensible to allow for appropriate action through an effective post-pandemic economic development plan."
   ]
  },
  {
   "cell_type": "markdown",
   "metadata": {},
   "source": [
    "## 2.3: Identify current models or prevailing frames that are being used to address the problem"
   ]
  },
  {
   "cell_type": "markdown",
   "metadata": {},
   "source": [
    "Current models that are being used to manage economic development post-COVID-19 includes the Global Trade Analysis Model (GTAP) which is a computable general equilibrium model that is used by the Australian Treasury (PWC, 2020, p. 4). Through the use of this model, PWC (2020, p. 6) has predicted that the coronavirus pandemic will reduce Australia’s GDP by \\\\$34.2 billion. According to PWC (2020, p. 8) countries like Australia suffer more in situations involving a pandemic as Australia has relatively higher consumption that relies on imports and exports, so as a result Australia’s household consumption is forecast to decline by $37.9 billion over the year as well.\n",
    "\n",
    "The Australian economy is very reliant on the health of our workers hence modelling of the coronavirus impact on the health of people is vital in addressing economic development. According to Australian Government (2020, p. 2 ), the University of Melbourne is using a modelling system they’ve dubbed “nowcasting” to better understand the present state of the pandemic in Australia using live data. By doing so, they can better review the effectiveness of restrictions as well as being able to be better prepared to define future response strategies by comparing patterns of the pandemic now and potential future pandemics. Along with analysing the known cases modelling system also is modelling the reproductive numbers to predict the distance and speed of the spread (Australian Government, 2020, p. 4).\n"
   ]
  },
  {
   "cell_type": "markdown",
   "metadata": {},
   "source": [
    "## 2.4: Discuss how prevailing models/frames are preventing the problem from being fully addressed or solved"
   ]
  },
  {
   "cell_type": "markdown",
   "metadata": {},
   "source": [
    "The single largest detrementing factor, a factor that plagues all models created by man is the leeway that must be provided. Data predictions occour \n",
    "ahead-of-time' while reality is not. Beyond this clear-cut factor a more 'niche-specific' factor was found in our modelling studies. In the context of modelling the effects of a given populous and economic deprecations caused by this destructor the understanding that social inequality\n",
    "\n",
    "The granovetter's model also suffers from a 'genre-specific' issue of its own. By nature the Granovetter's model attempts to aid data analysts in estimating the outcomes of a given event yet falls short with its one volatile element, the datasource. The granovetter's model \"unrealistically predicts either no-one or the entire population to eventually act\", to circumvent this issue it is recommended to join the useage of the Granovetters model with other models and data-sets stemming from \" real-world observations, social movement and resource mobilization theories\". (nature.com reference here, check refs)\n",
    "\n",
    "\n",
    "Outdated static models are preventing problems concerning economic development post-pandemic as static models are not being updated and altered to produce data that is accurate in today’s quickly changing world. Due to the pandemics unpredictable nature, it has been difficult to predict when the economy will be able to return to its potential pre-pandemic. According to Ahmad (2020), if coordination was more effective amongst countries, the pandemic could’ve had less devastating effects. If accurate modelling were practised as soon as the virus was heard of then the epidemic would have never had to be considered a pandemic. Due to governments passing the COVID-19 virus as just the flu that will pass with warmer seasons and using static modelling systems the virus has spread and become a pandemic which could’ve been avoided with the addition of a more ‘elastic’ model predicting the spread rate of the virus alongside the depth of the spread before flatlining. The modelling systems that should be implemented should initially be solely focused on returning to optimal health levels of a country's citizens rather than focusing on economic development as the economy is reliant on the health of the working person.\n",
    "\n",
    "According to Kissler et al. (2020, p. 860), we do not know enough about the coronavirus to be able to efficiently model the effects of it as well as the seasonal influences and transmission to be able to predict transmission dynamics accurately.  The long term dynamics of the virus depends on the immune system and the responses of it, which may have the virus occur up until 2025 (Kissler et al., 2020, p. 860). As a result of this uncertainty adapting current models to have accurate predictions has been difficult as the accuracy of the results is very low hence why it is proving to be a problem in regards to the problem space being solved.\n"
   ]
  },
  {
   "cell_type": "markdown",
   "metadata": {},
   "source": [
    "# 3.0: Conceptual models:"
   ]
  },
  {
   "cell_type": "markdown",
   "metadata": {},
   "source": [
    "## 3.1: Based on your self-study of the supermarket of models, explain the three models that you have chosen to look at the problem"
   ]
  },
  {
   "cell_type": "markdown",
   "metadata": {},
   "source": [
    "Throughout our studies our fellow peers were taught about the ‘supermarket of models’, there are a variety of models that independently conclude on the outcomes and reasons behind such outcomes, the output of this data from an applied study allows us to better predict and delve into complex issues occurring around us. To integrate our chosen topic, the analysis of economic development during a post-pandemic world benefits from a multitude of models as the very nature of the topic is of a broad-nature.\n",
    "The three chosen models are behavioural modelling under the broader ‘modelling people’ topic; random walks modelling under the ‘complex systems evolution’ topic and Granovetter's Model under the ‘segregation and peer effects’ topic.\n"
   ]
  },
  {
   "cell_type": "markdown",
   "metadata": {},
   "source": [
    "## 3.2: Explain how each of the three models works (brief) and how it will be applied in your case."
   ]
  },
  {
   "cell_type": "markdown",
   "metadata": {},
   "source": [
    "#### Modelling People - Behavioural Model"
   ]
  },
  {
   "cell_type": "markdown",
   "metadata": {},
   "source": [
    "The behavioural model in itself comprises of ‘objective functions’, the core base of which dataset will work with.\n",
    "\n",
    "The concept of modelling people behaviourally means that the scope of data will try to model the general public as close as possible to gain perspective on predcted real-world outcomes. This is in essence different to the two other people-based models, rational and rule-based. The group members undertaking this study should not assume the general public will be rational, under this, observations and conclusions are then established based on theorised outputs.\n",
    "\n",
    "It is important to remember the study-topic, to fully understand the effects of economic development post-pandemic a crucially-related component should be analysed; the ‘random walks’ in a population and population segregation (Granovetter's Model) provides a solid base model of which other datasets can be analysed in unity with as to accurately model and apply conclusions. Otherwise, the dataset may not achieve its most useful state of the real-world populous on a larger scale.\n"
   ]
  },
  {
   "cell_type": "markdown",
   "metadata": {},
   "source": [
    "#### Complex Systems Evolution - Random walks"
   ]
  },
  {
   "cell_type": "markdown",
   "metadata": {},
   "source": [
    "The random walks models is a very intriguing and simple model that can be applied to our broader population within our dataset. The random walks model, in theory, is simple and can be applied to many recurring events but there are two types of ‘random walks’ that can be applied of which a ‘binary random walk’ or a ‘finite memory random walk’. A ‘binary random walk’ is a simple model that is commonly explained through the example of a coin-flip. A ‘binary random walk’ in this case would model X = 0 and simply add or subtract one depending on heads or tails. For simplicity's sake, our team will be sticking with a binary random walk as the dataset can get out-of-hand with a ‘finite memory random walk’. The binary random walk is an important model for our use-case as it enables us to create theoretical events tracking the movement of people and the effects of such on economic development as the community attempts to ‘re-integrate’ to its previous orderly state pre-pandemic."
   ]
  },
  {
   "cell_type": "markdown",
   "metadata": {},
   "source": [
    "#### Segregation and Peer Effects - Granovetter's Model"
   ]
  },
  {
   "attachments": {
    "grav_model_concept.PNG": {
     "image/png": "[encoded data removed]"
    }
   },
   "cell_type": "markdown",
   "metadata": {},
   "source": [
    "The Granovetter's Model is an exceptional model based on the broader segregation and peer effects scope wonderfully integrating into our key topic. The Granovetter's Model is a model that attempts to identify the ‘extremes’ that drive phenomenon to occur in communities. A relevant example of such has been witnessed recently in Victoria as many residents protest against the government after growing ‘sick and tired’ of being ‘trapped’ indoors. This phenomenon in Victoria brings great credibility to the potential of Granovetter's Model. The Granovetter's Model is a slightly complex model that involves a variable N representing individuals with a threshold of joining a given 'movement', each individual requiring a value above their threshold to join said state. With an appropriate dataset, the Granovetter's Model has proved time-again to provide great outcomes allowing analysis with other broader scoped models.\n",
    "\n",
    "![grav_model_concept.PNG](attachment:grav_model_concept.PNG)\n",
    "Figure 3.1:  Granoveteer's threshold\n",
    "\n",
    "Figure 3.1 serves as an extended view of the Granoveteers model wherein P represents individuals potentially joining a given event and A are indiivduals who have commited to the event. \n",
    "\n"
   ]
  },
  {
   "cell_type": "markdown",
   "metadata": {},
   "source": [
    "### 3.3: Describe any data sources (real or hypothetical) that are needed to construct the three models. Use illustrative drawings and diagrams where possible"
   ]
  },
  {
   "cell_type": "markdown",
   "metadata": {},
   "source": [
    "Various academic, government and statistical sources need to be used to facilitate the development of the models. More specifically, data sources that need to be considered include data from the Australian census to determine the population make up of every suburb and the density of people within a specific region. Using this information, we should be able to model patterns of movement of people within particular areas to be able to model the spread and distribution of the virus amongst people. Data from the health department is also required to help model the frequency of coronavirus cases in order to model the economic development post-COVID-19 as the health of the working people is what the economy relies on. Further iterations of data are required from the health department, such as the infection rate of the virus spreading from person to person along with various hotspots. The graphs below gave insights into the correlation between the virus and economic fluctuations. This is crucial in the development of models that underpin all aspects of the issue and enhances the predictability of changes in each variable upon one another."
   ]
  },
  {
   "cell_type": "markdown",
   "metadata": {},
   "source": [
    "COVID Cases"
   ]
  },
  {
   "cell_type": "markdown",
   "metadata": {},
   "source": [
    "![](COVIDCases.PNG)"
   ]
  },
  {
   "cell_type": "markdown",
   "metadata": {},
   "source": [
    "(Wikipedia, 2020) "
   ]
  },
  {
   "cell_type": "markdown",
   "metadata": {},
   "source": [
    "Unemployment Rate"
   ]
  },
  {
   "cell_type": "markdown",
   "metadata": {},
   "source": [
    "![](UnemploymentRate.PNG)"
   ]
  },
  {
   "cell_type": "markdown",
   "metadata": {},
   "source": [
    "(ABS, 2020)"
   ]
  },
  {
   "cell_type": "markdown",
   "metadata": {},
   "source": [
    "# 4.0: Implementation:"
   ]
  },
  {
   "cell_type": "markdown",
   "metadata": {},
   "source": [
    "## 4.1: Describe the mathematical and/or statistical implementation of your three models. This should be done using Python code."
   ]
  },
  {
   "cell_type": "markdown",
   "metadata": {},
   "source": [
    "#### Behavioural Model"
   ]
  },
  {
   "cell_type": "code",
   "execution_count": null,
   "metadata": {},
   "outputs": [],
   "source": []
  },
  {
   "cell_type": "markdown",
   "metadata": {},
   "source": [
    "#### Agent Based Model: Infection Model"
   ]
  },
  {
   "cell_type": "code",
   "execution_count": 21,
   "metadata": {},
   "outputs": [],
   "source": [
    "import math\n",
    "from enum import Enum\n",
    "import networkx as nx\n",
    "\n",
    "from mesa import Agent, Model\n",
    "from mesa.time import RandomActivation\n",
    "from mesa.datacollection import DataCollector\n",
    "from mesa.space import NetworkGrid\n",
    "\n",
    "\n",
    "class State(Enum):\n",
    "    SUSCEPTIBLE = 0\n",
    "    INFECTED = 1\n",
    "    RESISTANT = 2\n",
    "\n",
    "\n",
    "def number_state(model, state):\n",
    "    return sum([1 for a in model.grid.get_all_cell_contents() if a.state is state])\n",
    "\n",
    "\n",
    "def number_infected(model):\n",
    "    return number_state(model, State.INFECTED)\n",
    "\n",
    "\n",
    "def number_susceptible(model):\n",
    "    return number_state(model, State.SUSCEPTIBLE)\n",
    "\n",
    "\n",
    "def number_resistant(model):\n",
    "    return number_state(model, State.RESISTANT)\n",
    "\n",
    "\n",
    "class VirusOnNetwork(Model):\n",
    "    \"\"\"A virus model with some number of agents\"\"\"\n",
    "\n",
    "    def __init__(\n",
    "        self,\n",
    "        num_nodes=10,\n",
    "        avg_node_degree=3,\n",
    "        initial_outbreak_size=1,\n",
    "        virus_spread_chance=0.4,\n",
    "        virus_check_frequency=0.4,\n",
    "        recovery_chance=0.3,\n",
    "        gain_resistance_chance=0.5,\n",
    "    ):\n",
    "\n",
    "        self.num_nodes = num_nodes\n",
    "        prob = avg_node_degree / self.num_nodes\n",
    "        self.G = nx.erdos_renyi_graph(n=self.num_nodes, p=prob)\n",
    "        self.grid = NetworkGrid(self.G)\n",
    "        self.schedule = RandomActivation(self)\n",
    "        self.initial_outbreak_size = (\n",
    "            initial_outbreak_size if initial_outbreak_size <= num_nodes else num_nodes\n",
    "        )\n",
    "        self.virus_spread_chance = virus_spread_chance\n",
    "        self.virus_check_frequency = virus_check_frequency\n",
    "        self.recovery_chance = recovery_chance\n",
    "        self.gain_resistance_chance = gain_resistance_chance\n",
    "\n",
    "        self.datacollector = DataCollector(\n",
    "            {\n",
    "                \"Infected\": number_infected,\n",
    "                \"Susceptible\": number_susceptible,\n",
    "                \"Resistant\": number_resistant,\n",
    "            }\n",
    "        )\n",
    "\n",
    "        # Create agents\n",
    "        for i, node in enumerate(self.G.nodes()):\n",
    "            a = VirusAgent(\n",
    "                i,\n",
    "                self,\n",
    "                State.SUSCEPTIBLE,\n",
    "                self.virus_spread_chance,\n",
    "                self.virus_check_frequency,\n",
    "                self.recovery_chance,\n",
    "                self.gain_resistance_chance,\n",
    "            )\n",
    "            self.schedule.add(a)\n",
    "            # Add the agent to the node\n",
    "            self.grid.place_agent(a, node)\n",
    "\n",
    "        # Infect some nodes\n",
    "        infected_nodes = self.random.sample(self.G.nodes(), self.initial_outbreak_size)\n",
    "        for a in self.grid.get_cell_list_contents(infected_nodes):\n",
    "            a.state = State.INFECTED\n",
    "\n",
    "        self.running = True\n",
    "        self.datacollector.collect(self)\n",
    "\n",
    "    def resistant_susceptible_ratio(self):\n",
    "        try:\n",
    "            return number_state(self, State.RESISTANT) / number_state(\n",
    "                self, State.SUSCEPTIBLE\n",
    "            )\n",
    "        except ZeroDivisionError:\n",
    "            return math.inf\n",
    "\n",
    "    def step(self):\n",
    "        self.schedule.step()\n",
    "        # collect data\n",
    "        self.datacollector.collect(self)\n",
    "\n",
    "    def run_model(self, n):\n",
    "        for i in range(n):\n",
    "            self.step()\n",
    "\n",
    "\n",
    "class VirusAgent(Agent):\n",
    "    def __init__(\n",
    "        self,\n",
    "        unique_id,\n",
    "        model,\n",
    "        initial_state,\n",
    "        virus_spread_chance,\n",
    "        virus_check_frequency,\n",
    "        recovery_chance,\n",
    "        gain_resistance_chance,\n",
    "    ):\n",
    "        super().__init__(unique_id, model)\n",
    "\n",
    "        self.state = initial_state\n",
    "\n",
    "        self.virus_spread_chance = virus_spread_chance\n",
    "        self.virus_check_frequency = virus_check_frequency\n",
    "        self.recovery_chance = recovery_chance\n",
    "        self.gain_resistance_chance = gain_resistance_chance\n",
    "\n",
    "    def try_to_infect_neighbors(self):\n",
    "        neighbors_nodes = self.model.grid.get_neighbors(self.pos, include_center=False)\n",
    "        susceptible_neighbors = [\n",
    "            agent\n",
    "            for agent in self.model.grid.get_cell_list_contents(neighbors_nodes)\n",
    "            if agent.state is State.SUSCEPTIBLE\n",
    "        ]\n",
    "        for a in susceptible_neighbors:\n",
    "            if self.random.random() < self.virus_spread_chance:\n",
    "                a.state = State.INFECTED\n",
    "\n",
    "    def try_gain_resistance(self):\n",
    "        if self.random.random() < self.gain_resistance_chance:\n",
    "            self.state = State.RESISTANT\n",
    "\n",
    "    def try_remove_infection(self):\n",
    "        # Try to remove\n",
    "        if self.random.random() < self.recovery_chance:\n",
    "            # Success\n",
    "            self.state = State.SUSCEPTIBLE\n",
    "            self.try_gain_resistance()\n",
    "        else:\n",
    "            # Failed\n",
    "            self.state = State.INFECTED\n",
    "\n",
    "    def try_check_situation(self):\n",
    "        if self.random.random() < self.virus_check_frequency:\n",
    "            # Checking...\n",
    "            if self.state is State.INFECTED:\n",
    "                self.try_remove_infection()\n",
    "\n",
    "    def step(self):\n",
    "        if self.state is State.INFECTED:\n",
    "            self.try_to_infect_neighbors()\n",
    "        self.try_check_situation()\n"
   ]
  },
  {
   "cell_type": "code",
   "execution_count": 22,
   "metadata": {},
   "outputs": [
    {
     "ename": "ModuleNotFoundError",
     "evalue": "No module named '__main__.model'; '__main__' is not a package",
     "output_type": "error",
     "traceback": [
      "\u001b[1;31m---------------------------------------------------------------------------\u001b[0m",
      "\u001b[1;31mModuleNotFoundError\u001b[0m                       Traceback (most recent call last)",
      "\u001b[1;32m<ipython-input-22-d514e8f28e2d>\u001b[0m in \u001b[0;36m<module>\u001b[1;34m\u001b[0m\n\u001b[0;32m      6\u001b[0m \u001b[1;32mfrom\u001b[0m \u001b[0mmesa\u001b[0m\u001b[1;33m.\u001b[0m\u001b[0mvisualization\u001b[0m\u001b[1;33m.\u001b[0m\u001b[0mmodules\u001b[0m \u001b[1;32mimport\u001b[0m \u001b[0mNetworkModule\u001b[0m\u001b[1;33m\u001b[0m\u001b[1;33m\u001b[0m\u001b[0m\n\u001b[0;32m      7\u001b[0m \u001b[1;32mfrom\u001b[0m \u001b[0mmesa\u001b[0m\u001b[1;33m.\u001b[0m\u001b[0mvisualization\u001b[0m\u001b[1;33m.\u001b[0m\u001b[0mmodules\u001b[0m \u001b[1;32mimport\u001b[0m \u001b[0mTextElement\u001b[0m\u001b[1;33m\u001b[0m\u001b[1;33m\u001b[0m\u001b[0m\n\u001b[1;32m----> 8\u001b[1;33m \u001b[1;32mfrom\u001b[0m \u001b[1;33m.\u001b[0m\u001b[0mmodel\u001b[0m \u001b[1;32mimport\u001b[0m \u001b[0mVirusOnNetwork\u001b[0m\u001b[1;33m,\u001b[0m \u001b[0mState\u001b[0m\u001b[1;33m,\u001b[0m \u001b[0mnumber_infected\u001b[0m\u001b[1;33m\u001b[0m\u001b[1;33m\u001b[0m\u001b[0m\n\u001b[0m\u001b[0;32m      9\u001b[0m \u001b[1;33m\u001b[0m\u001b[0m\n\u001b[0;32m     10\u001b[0m \u001b[1;33m\u001b[0m\u001b[0m\n",
      "\u001b[1;31mModuleNotFoundError\u001b[0m: No module named '__main__.model'; '__main__' is not a package"
     ]
    }
   ],
   "source": [
    "import math\n",
    "\n",
    "from mesa.visualization.ModularVisualization import ModularServer\n",
    "from mesa.visualization.UserParam import UserSettableParameter\n",
    "from mesa.visualization.modules import ChartModule\n",
    "from mesa.visualization.modules import NetworkModule\n",
    "from mesa.visualization.modules import TextElement\n",
    "from .model import VirusOnNetwork, State, number_infected\n",
    "\n",
    "\n",
    "def network_portrayal(G):\n",
    "    # The model ensures there is always 1 agent per node\n",
    "\n",
    "    def node_color(agent):\n",
    "        return {State.INFECTED: \"#FF0000\", State.SUSCEPTIBLE: \"#008000\"}.get(\n",
    "            agent.state, \"#808080\"\n",
    "        )\n",
    "\n",
    "    def edge_color(agent1, agent2):\n",
    "        if State.RESISTANT in (agent1.state, agent2.state):\n",
    "            return \"#000000\"\n",
    "        return \"#e8e8e8\"\n",
    "\n",
    "    def edge_width(agent1, agent2):\n",
    "        if State.RESISTANT in (agent1.state, agent2.state):\n",
    "            return 3\n",
    "        return 2\n",
    "\n",
    "    def get_agents(source, target):\n",
    "        return G.nodes[source][\"agent\"][0], G.nodes[target][\"agent\"][0]\n",
    "\n",
    "    portrayal = dict()\n",
    "    portrayal[\"nodes\"] = [\n",
    "        {\n",
    "            \"size\": 6,\n",
    "            \"color\": node_color(agents[0]),\n",
    "            \"tooltip\": \"id: {}<br>state: {}\".format(\n",
    "                agents[0].unique_id, agents[0].state.name\n",
    "            ),\n",
    "        }\n",
    "        for (_, agents) in G.nodes.data(\"agent\")\n",
    "    ]\n",
    "\n",
    "    portrayal[\"edges\"] = [\n",
    "        {\n",
    "            \"source\": source,\n",
    "            \"target\": target,\n",
    "            \"color\": edge_color(*get_agents(source, target)),\n",
    "            \"width\": edge_width(*get_agents(source, target)),\n",
    "        }\n",
    "        for (source, target) in G.edges\n",
    "    ]\n",
    "\n",
    "    return portrayal\n",
    "\n",
    "\n",
    "network = NetworkModule(network_portrayal, 500, 500, library=\"d3\")\n",
    "chart = ChartModule(\n",
    "    [\n",
    "        {\"Label\": \"Infected\", \"Color\": \"#FF0000\"},\n",
    "        {\"Label\": \"Susceptible\", \"Color\": \"#008000\"},\n",
    "        {\"Label\": \"Resistant\", \"Color\": \"#808080\"},\n",
    "    ]\n",
    ")\n",
    "\n",
    "\n",
    "class MyTextElement(TextElement):\n",
    "    def render(self, model):\n",
    "        ratio = model.resistant_susceptible_ratio()\n",
    "        ratio_text = \"&infin;\" if ratio is math.inf else \"{0:.2f}\".format(ratio)\n",
    "        infected_text = str(number_infected(model))\n",
    "\n",
    "        return \"Resistant/Susceptible Ratio: {}<br>Infected Remaining: {}\".format(\n",
    "            ratio_text, infected_text\n",
    "        )\n",
    "\n",
    "\n",
    "model_params = {\n",
    "    \"num_nodes\": UserSettableParameter(\n",
    "        \"slider\",\n",
    "        \"Number of agents\",\n",
    "        10,\n",
    "        10,\n",
    "        100,\n",
    "        1,\n",
    "        description=\"Choose how many agents to include in the model\",\n",
    "    ),\n",
    "    \"avg_node_degree\": UserSettableParameter(\n",
    "        \"slider\", \"Avg Node Degree\", 3, 3, 8, 1, description=\"Avg Node Degree\"\n",
    "    ),\n",
    "    \"initial_outbreak_size\": UserSettableParameter(\n",
    "        \"slider\",\n",
    "        \"Initial Outbreak Size\",\n",
    "        1,\n",
    "        1,\n",
    "        10,\n",
    "        1,\n",
    "        description=\"Initial Outbreak Size\",\n",
    "    ),\n",
    "    \"virus_spread_chance\": UserSettableParameter(\n",
    "        \"slider\",\n",
    "        \"Virus Spread Chance\",\n",
    "        0.4,\n",
    "        0.0,\n",
    "        1.0,\n",
    "        0.1,\n",
    "        description=\"Probability that susceptible neighbor will be infected\",\n",
    "    ),\n",
    "    \"virus_check_frequency\": UserSettableParameter(\n",
    "        \"slider\",\n",
    "        \"Virus Check Frequency\",\n",
    "        0.4,\n",
    "        0.0,\n",
    "        1.0,\n",
    "        0.1,\n",
    "        description=\"Frequency the nodes check whether they are infected by \" \"a virus\",\n",
    "    ),\n",
    "    \"recovery_chance\": UserSettableParameter(\n",
    "        \"slider\",\n",
    "        \"Recovery Chance\",\n",
    "        0.3,\n",
    "        0.0,\n",
    "        1.0,\n",
    "        0.1,\n",
    "        description=\"Probability that the virus will be removed\",\n",
    "    ),\n",
    "    \"gain_resistance_chance\": UserSettableParameter(\n",
    "        \"slider\",\n",
    "        \"Gain Resistance Chance\",\n",
    "        0.5,\n",
    "        0.0,\n",
    "        1.0,\n",
    "        0.1,\n",
    "        description=\"Probability that a recovered agent will become \"\n",
    "        \"resistant to this virus in the future\",\n",
    "    ),\n",
    "}\n",
    "\n",
    "server = ModularServer(\n",
    "    VirusOnNetwork, [network, MyTextElement(), chart], \"Virus Model\", model_params\n",
    ")\n",
    "server.port = 8521\n"
   ]
  },
  {
   "cell_type": "code",
   "execution_count": null,
   "metadata": {},
   "outputs": [],
   "source": []
  },
  {
   "cell_type": "code",
   "execution_count": null,
   "metadata": {},
   "outputs": [],
   "source": []
  },
  {
   "cell_type": "code",
   "execution_count": null,
   "metadata": {},
   "outputs": [],
   "source": []
  },
  {
   "cell_type": "markdown",
   "metadata": {},
   "source": [
    "https://dmnfarrell.github.io/bioinformatics/abm-mesa-python"
   ]
  },
  {
   "cell_type": "markdown",
   "metadata": {},
   "source": [
    "#### Granovetter's Model"
   ]
  },
  {
   "cell_type": "code",
   "execution_count": null,
   "metadata": {},
   "outputs": [],
   "source": []
  },
  {
   "cell_type": "markdown",
   "metadata": {},
   "source": [
    "# 5.0: Scenario analysis, sensitivity + uncertainty evaluation:"
   ]
  },
  {
   "cell_type": "markdown",
   "metadata": {},
   "source": [
    "## 5.1: Establish baseline parameter sets and or configuration for output scenarios"
   ]
  },
  {
   "cell_type": "markdown",
   "metadata": {},
   "source": [
    "The effectiveness of ones models can be weighed down at any lifecycle steps. Establishing baseline parameters post 'model-picking' is as important in itself than choosing models to build upon. This destructor, globally known as 'Covid-19'"
   ]
  },
  {
   "cell_type": "markdown",
   "metadata": {},
   "source": [
    "## 5.2: Perform a basic sensitivity analysis, i.e, identify which parameters are most sensitive/insensitive for the outputs."
   ]
  },
  {
   "cell_type": "code",
   "execution_count": null,
   "metadata": {},
   "outputs": [],
   "source": []
  },
  {
   "cell_type": "markdown",
   "metadata": {},
   "source": [
    "# 6.0: Proposed solutions:"
   ]
  },
  {
   "cell_type": "markdown",
   "metadata": {},
   "source": [
    "## 6.1: Discuss potential portfolio of solutions based on your previous analysis"
   ]
  },
  {
   "cell_type": "raw",
   "metadata": {},
   "source": [
    "Through instilling a many-model thinking approach in the analysis of the economic impact of the COVID-19 pandemic, numerous insights have been discovered, which has assisted in the development of effective solutions. As discussed previously, the models used to provide a deep understanding of the issue includes behavioural models, random walks and the Granovetter’s. model. Each of these models serve the purpose of deconstructing the COVID-19 pandemic and identifying aspects that require corrective intervention to reduce future growth. Specifically, the behavioural model hypothesises various changes to human behaviour when stimulus is imposed. For example, when cases increase, how this correlates with variations in economic indicators such as consumption, investment and employment. Further, the random walk theory provides policymakers and other stakeholders with the mindset that prior trends cannot be used to forecast future trends. This idea is highly applicable in the development of a post-pandemic economic development plan, as both the economy and COVID-19 are extremely volatile and unpredictable complex systems. Thus, it is crucial to consider the occurrence of unprecedented and new outcomes that have not occurred previously. Finally, Granovetter’s model theorises societies with different threshold levels. A high threshold society involves individuals who are independent and do not change their behaviour due to the actions of those around them. However, low threshold depicts a society where people do what everyone else does e.g. wearing masks or adhering to social distancing measures. Each of these models stimulates a greater understanding of the issue at hand, which allows for more effective and relevant solutions. \n",
    "\n",
    "Through the analysis of these models, potential solutions that have been devised to improve the current state of the issue include:\n",
    "1.\tDeveloping hypothetical situations and attaching solutions\n",
    "2.\tDetermine how to enhance a high threshold society\n",
    "3.\tScanning and learning other economies.\n",
    "\n",
    "6.1: Developing hypothetical situations and attaching solutions:\n",
    "The behavioural model focuses on exploring human action to imposed stimulus. Thus, with this in mind, it would be effective to develop detailed hypothetical scenarios, and exploring the most effective solutions to combat this. Specifically, these scenarios could include an unprecedented increase in cases, a slowdown in cases as well as a forecast of the corresponding economic impacts. Through proactively developing effective solutions, this minimises the ability of policymakers to lose control over the virus’ spread and ensure that economic fluctuations are not uncontrollable. Although there are limitations to this strategy, being the unpredictability of the virus, enforcing a proactive response to potential scenarios, provides policymakers with a heightened ability to manage the virus and control the economy. For example, from an economic perspective an increase in cases coincides with less consumption, increased unemployment and a heightened level of uncertainty. However, a pre-emptive response will lessen the extent of this occurring. \n",
    "\n",
    "6.2: Devise Methods of Building a High-Threshold Society:\n",
    "As expressed within Granovetter’s model, a high threshold society is characterised by individual’s behaviour that is influenced by one another. The variation in this threshold level greatly influences the effectiveness of imposed strategies. For example, in a low threshold society, it becomes difficult to forecast the outcome on a larger society, as individual behaviours are not influenced externally. In this context, if some individuals begin to wear masks, or adhere to social distancing measures, this has no direct influence on the wider society. Therefore, in a society where individual perception and behaviours are closely linked, the ability for strategies to have a larger impact is enhanced. However, influencing the perception and actions of society is extremely difficult. Hence, it is crucial that individuals are well-informed on the severity of the issues at hand as well as the importance of imposed strategies to in alleviating both health-related and economic impacts. To accompany this, it is just as important for policy makers to remain well-informed on societal views surrounding policy decisions, which could occur through incentivised surveys. Therefore, through aligning policy decisions to societal views, it becomes easier to deconstruct a large issue and address the issue in a manner that encourages a shared response.\n",
    "\n",
    "6.3: Scanning and Learning Other Economies:\n",
    "As the future of the COVID-19 pandemic remains unprecedented and unpredictable, as stated within the random walk theory, an important strategy involves research into responses taken by other economies. While this does not provide definitive responses, it assists with gaining an understanding of methods that have seen to be both effective and ineffective in addressing the economic impacts of the global pandemic. For example, the UK government states that “lockdown itself doesn’t fundamentally change the virus or its trajectory. People started to equate suppressing the virus with staying at home and shutting businesses.” Ultimately, this strategy is not used as a mechanism to provide responses with guaranteed success but enables further deconstruction of global responses to allow for enhanced predictability and understandability of an almost unpredictable problem. To support this notion, The Guardian’s study conveys that models based on real data should be more nuanced that those that, at the start of the outbreak, necessarily predicted the effect of interventions mainly using assumptions”. In light of this, analysing global strategies enables the Australian economy to model and develop a post-pandemic economic development plan that is well-informed.\n"
   ]
  },
  {
   "cell_type": "markdown",
   "metadata": {},
   "source": [
    "# 7.0: Reflection on group + individual approach to assignment:"
   ]
  },
  {
   "cell_type": "markdown",
   "metadata": {},
   "source": [
    "## 7.1: Each student should discuss their experiences about working on the project. The document should be no more than 1000 words per group member. It should discuss following key aspects:\n",
    "- Your contribution in the project\n",
    "- Other group members’ contributions\n",
    "- What positives do you take from this project? What did you learn from this project?\n",
    "- What challenges did you face in this project and how you overcame those?\n",
    "- If you are faced with dealing with a real-world problem and need to do some modelling, how would you determine which modelling approach to take. Justify your response."
   ]
  },
  {
   "cell_type": "markdown",
   "metadata": {},
   "source": [
    "#### Daniel Habib's reflection:"
   ]
  },
  {
   "cell_type": "raw",
   "metadata": {},
   "source": [
    "- Within these unprecedented timed, this assessment required each member of the group to utilise limited resources to complete the report. Specifically, this project demanded the use of online resources in order to replicate the working environment of on campus workshops. Through reflecting upon this task, there were both challenges and benefits that resulted from this transition. Personally, I found that this new experience allowed me to enhance my ability to problem solve and strategically devise effective methods to make the most out of the restrictions imposed within this time. Further, these skills amalgamated with the use of modelling are crucial in understanding, deconstructing and addressing real world problems.\n",
    "- 7.1: My contribution to the project:\n",
    "- Through meticulous reflection into the report writing process, the first step required was to delegate roles in which each member was equipped with the confidence and knowledge to complete well. \n",
    "- Within this report, my initial contribution to the pre-submission included:\n",
    "- \t1.0: Introduction\n",
    "- \t2.1: Research and review literature, news, digital media, drivers and how the problem is being addressed by academia, industry, government, etc\n",
    "- \t2.4: Discuss how prevailing models/frames are preventing the problem from being fully addressed or solved.\n",
    "- Within the final report, my delegated part included:\n",
    "\t6.1: Discuss potential portfolio of solutions based on your previous analysis\n",
    "- As well as the dot points, I contributed to the project in other ways. Specifically, I found myself, as well as specific other members contributed heavily to the arrangement of video calls, communication mediums e.g. group chats on social media as well as key conversationalists within these calls. In reflecting, this was highly advantageous as it enabled the group to assist each other as well as be actively informed of group progress. Over time, we had gained a sense of familiarity with each other which eased this process greatly. \n",
    "\n",
    "- 7.2: Other Members’ Contribution: \n",
    "- In order to complete the report effectively, the combined effort and contribution of each member was essential. Within the group, the other team members included:\n",
    "- \tMajmut Olca\n",
    "- \tMartin Obaid\n",
    "- \tDrishti Shreya\n",
    "- Each of these members contributed to the project in different ways and at varying levels. Firstly, Mahmut was the driving force within the group. He consistently made sure that we were performing well and provided each individual with a sense of direction and assurance. Through actively communicating with Juan, he ensured that our report exceeded the requirements and offered assistance despite his busy schedule and other family commitments. Overall, Mahmut contributed drastically to the assessment at all stages. Secondly, Martin was reliable and provided effective solutions whenever a problem arose within the course of the semester. He regularly informed us of his plans and schedule to assure that we knew his commitment to the task. His extensive knowledge of content and modelling was evident within this report. Finally, Drishti, although being a less expressive team member was a positive force within the group. Her active participation in group calls facilitated a smooth flowing semester. \n",
    "\n",
    "- 7.3: Positives and Insights from this Project:\n",
    "- This assessment task differed greatly from reports completed in other university subjects. Particularly, the use of new online platforms and the requirement of coding amongst other factors demanded a strong group dynamic. This is because we had to work together not only to complete the content within the report but to be able to navigate the new applications such as GitHub and Jupyter. This presented positive outcomes as it personally enabled me to be introduced to new mediums to present information, that are useful in university and the real-world. Further, it enhanced familiarity within the group and encouraged active communication in order to properly understand these online platforms. In summation, the challenge of understanding the applications brought the group closer together and led to a stronger group dynamic. This was similar for the coding aspect of the assessment. As none of us were confident programmers, this meant that we needed to come together to understand the required python code. Another positive from this task is that it taught us how take a large-scale issue such as the COVID-19 pandemic and use models to deconstruct it into elements that can be addressed individually. This is a crucial skill to possess as an information systems professional, as it allows one to take large volumes of data and be able to efficiently break it down to improve understandability and predictability. \n",
    "\n",
    "- 7.4: Challenges Experienced:\n",
    "- Various challenged were experienced within this report. Particularly, the transition to online learning meant that we never had the opportunity to meet our group members. In reflecting upon the initial stages of the assessment, this made it difficult to communicate and raise concerns as there wasn’t a solid sense of familiarity. To overcome this challenge, myself along with Mahmut had a call where we decided to organise regular meetings with the group. Over time, this led to active communication and an improved group dynamic. Further, a major challenge faced was organising calls around each of our schedules. As this medium of communicating was through online calls, it was extremely difficult to find a time which catered for each members’ commitments. This challenge was attenuated through the making of. A Facebook Messenger group chat which meant that we could communicate at any time and let a missing member know what happened during the call. Finally, although the new platforms were opportunistic, they increased the difficultly of the assessment due to the amount of time required to understand the application. However, over time this became much easier.\n"
   ]
  },
  {
   "cell_type": "raw",
   "metadata": {},
   "source": [
    "#### Dhristi Shreya's reflection:"
   ]
  },
  {
   "cell_type": "code",
   "execution_count": null,
   "metadata": {},
   "outputs": [],
   "source": []
  },
  {
   "cell_type": "markdown",
   "metadata": {},
   "source": [
    "#### Martin Obaid's reflection:"
   ]
  },
  {
   "cell_type": "markdown",
   "metadata": {},
   "source": [
    "Humanity has come so far to the point that many, in their lifetimes don't even think about a once commonday chore our ancestors persisted through daily, whether it be adequate shelter, accessible sources of food or the promise of security and safety on an ongoing basis. The art of data-analysis reminds us of humanities whereabouts as it pieces together objects from the past and present to predict or in itself forge an appropriate recommendation of the path ahead. Through the many weeks  "
   ]
  },
  {
   "cell_type": "markdown",
   "metadata": {},
   "source": [
    "#### Mahmut Jahn Olca's reflection:"
   ]
  },
  {
   "cell_type": "code",
   "execution_count": null,
   "metadata": {},
   "outputs": [],
   "source": []
  },
  {
   "cell_type": "markdown",
   "metadata": {},
   "source": [
    "# References"
   ]
  },
  {
   "cell_type": "markdown",
   "metadata": {},
   "source": [
    "https://towardsdatascience.com/model-the-covid-19-epidemic-in-detail-with-python-98f0d13f3a0e (Reference of data vs reality COVID modelling).\n",
    "\n",
    "https://www.ncbi.nlm.nih.gov/pmc/articles/PMC7340090/ (Reference in intro, fit it in there)\n",
    "\n",
    "https://www.weforum.org/agenda/2020/09/an-economist-explains-what-covid-19-has-done-to-the-global-economy/ (Intro photo credit of 'Real GDP growth in advanced economies).\n",
    "\n",
    "https://www.nature.com/articles/s41598-020-67102-6 (The nature.com reference outlining Granovetters model shortfalls)\n",
    "\n"
   ]
  },
  {
   "cell_type": "code",
   "execution_count": null,
   "metadata": {},
   "outputs": [],
   "source": []
  }
 ],
 "metadata": {
  "kernelspec": {
   "display_name": "Python 3",
   "language": "python",
   "name": "python3"
  },
  "language_info": {
   "codemirror_mode": {
    "name": "ipython",
    "version": 3
   },
   "file_extension": ".py",
   "mimetype": "text/x-python",
   "name": "python",
   "nbconvert_exporter": "python",
   "pygments_lexer": "ipython3",
   "version": "3.8.3"
  }
 },
 "nbformat": 4,
 "nbformat_minor": 4
}
